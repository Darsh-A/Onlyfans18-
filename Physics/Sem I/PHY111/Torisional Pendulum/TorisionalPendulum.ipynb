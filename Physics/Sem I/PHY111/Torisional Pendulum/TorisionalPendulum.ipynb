{
 "cells": [
  {
   "cell_type": "code",
   "execution_count": 5,
   "metadata": {},
   "outputs": [],
   "source": [
    "sphere = {\n",
    "    \"name\" : \"Sphere\",\n",
    "    \"mass\" : 300, # in grams\n",
    "    \"diameter\" : 0.21, # in centimeters\n",
    "    \"time\" : [1, 2, 3] # in seconds\n",
    "}\n",
    "\n",
    "cube = {\n",
    "    \"name\" : \"Cube\",\n",
    "    \"mass\" : 500, # in grams\n",
    "    \"side\" : 2.1, # in centimeters\n",
    "    \"time\" : [4, 4, 4] # in seconds\n",
    "}\n",
    "\n",
    "cylinder = {\n",
    "    \"name\" : \"Cylinder\",\n",
    "    \"mass\" : 260, # in grams\n",
    "    \"diameter\" : 0.14, # in centimeters\n",
    "    \"time\" : [1.5, 2, 2] # in seconds\n",
    "}\n",
    "\n",
    "no_mass_timings = [1, 1, 1] # in seconds"
   ]
  },
  {
   "cell_type": "code",
   "execution_count": 6,
   "metadata": {},
   "outputs": [
    {
     "name": "stdout",
     "output_type": "stream",
     "text": [
      "name: Sphere\n",
      "mass: 0.3\n",
      "diameter: 0.21\n",
      "time: [1, 2, 3]\n",
      "radius: 0.00105\n",
      "true_inertia: 1.3229999999999996e-07\n",
      "average_time: 2.0\n",
      "inertia: 8.093647058823533e-08\n",
      "deviation: 5.136352941176463e-08\n",
      "\n",
      "name: Cube\n",
      "mass: 0.5\n",
      "side: 0.021\n",
      "time: [4, 4, 4]\n",
      "true_inertia: 3.675e-05\n",
      "average_time: 4.0\n",
      "inertia: 4.046823529411767e-07\n",
      "deviation: 3.634531764705882e-05\n",
      "\n",
      "name: Cylinder\n",
      "mass: 0.26\n",
      "diameter: 0.14\n",
      "time: [1.5, 2, 2]\n",
      "radius: 0.0007000000000000001\n",
      "true_inertia: 6.370000000000002e-08\n",
      "average_time: 1.8333333333333333\n",
      "\n"
     ]
    }
   ],
   "source": [
    "import numpy as np\n",
    "\n",
    "sphere['mass'] = sphere['mass'] / 1000\n",
    "cube['mass'] = cube['mass'] / 1000\n",
    "cylinder['mass'] = cylinder['mass'] / 1000\n",
    "\n",
    "sphere['radius'] = sphere['diameter'] / 200\n",
    "cube['side'] = cube['side'] / 100\n",
    "cylinder['radius'] = cylinder['diameter'] / 200\n",
    "\n",
    "sphere['true_inertia'] = (2/5) * sphere['mass'] * sphere['radius']**2\n",
    "cube['true_inertia'] = (1/6) * cube['mass'] * cube['side']**2\n",
    "cylinder['true_inertia'] = (1/2) * cylinder['mass'] * cylinder['radius']**2\n",
    "\n",
    "sphere['average_time'] = np.mean(sphere['time'])\n",
    "cube['average_time'] = np.mean(cube['time'])\n",
    "cylinder['average_time'] = np.mean(cylinder['time'])\n",
    "no_mass_average_time = np.mean(no_mass_timings)\n",
    "\n",
    "sphere['inertia'] = ((no_mass_average_time**2 - sphere['average_time']**2)/(no_mass_average_time**2 - cylinder['average_time']**2)) * cylinder['true_inertia']\n",
    "cube['inertia'] = ((no_mass_average_time**2 - cube['average_time']**2)/(no_mass_average_time**2 - cylinder['average_time']**2)) * cylinder['true_inertia']\n",
    "\n",
    "sphere['deviation'] = sphere['true_inertia'] - sphere['inertia']\n",
    "cube['deviation'] = cube['true_inertia'] - cube['inertia']\n",
    "\n",
    "objects = [sphere, cube, cylinder]\n",
    "\n",
    "for obj in objects:\n",
    "    for k, v in obj.items():\n",
    "        print(f\"{k}: {v}\")\n",
    "    print()"
   ]
  }
 ],
 "metadata": {
  "kernelspec": {
   "display_name": "Python 3",
   "language": "python",
   "name": "python3"
  },
  "language_info": {
   "codemirror_mode": {
    "name": "ipython",
    "version": 3
   },
   "file_extension": ".py",
   "mimetype": "text/x-python",
   "name": "python",
   "nbconvert_exporter": "python",
   "pygments_lexer": "ipython3",
   "version": "3.10.8 (tags/v3.10.8:aaaf517, Oct 11 2022, 16:50:30) [MSC v.1933 64 bit (AMD64)]"
  },
  "orig_nbformat": 4,
  "vscode": {
   "interpreter": {
    "hash": "369f2c481f4da34e4445cda3fffd2e751bd1c4d706f27375911949ba6bb62e1c"
   }
  }
 },
 "nbformat": 4,
 "nbformat_minor": 2
}
