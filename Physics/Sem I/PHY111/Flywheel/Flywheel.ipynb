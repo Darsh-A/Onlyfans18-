{
 "cells": [
  {
   "attachments": {},
   "cell_type": "markdown",
   "metadata": {},
   "source": [
    "$$\n",
    "I = \\frac{ 2mgh - mr^{2}\\omega^{2} }{ \\omega^{2} (1 + \\frac{n}{n_1})}\n",
    "$$"
   ]
  },
  {
   "cell_type": "code",
   "execution_count": 21,
   "metadata": {},
   "outputs": [],
   "source": [
    "from numpy import mean, std, abs\n",
    "\n",
    "def omega(n1, t):\n",
    "    return (4*3.142*n1)/t\n"
   ]
  },
  {
   "cell_type": "code",
   "execution_count": 22,
   "metadata": {},
   "outputs": [],
   "source": [
    "m = [0.228,0.464, 0.718, 0.956, 1.164]\n",
    "t = [[59.1, 55.1, 57.5, 51.9], [78.1, 82.4, 84.8, 76.6], [89.4, 95.1, 97.8, 91.8], [104.9, 102.6, 110.7, 101.4], [115.5, 116, 118.3, 113.9]]\n",
    "r1 = [[20, 99981, 19, 99980], [19, 99980, 19, 99979], [19, 99980, 19, 99979], [19, 99980, 19, 99980], [18, 99979, 19, 99980]]\n",
    "r2 = [[77, 99928, 79, 99930], [136, 99859, 141, 99869], [186, 99808, 194, 99818], [233, 99773, 249, 99770],[285, 99726, 286, 99727]]\n",
    "r = 0.0209\n",
    "h = 1.525\n",
    "g = 9.8"
   ]
  },
  {
   "cell_type": "code",
   "execution_count": 23,
   "metadata": {},
   "outputs": [
    {
     "name": "stdout",
     "output_type": "stream",
     "text": [
      "I: [0.03282929140780476, 0.0350865661298382, 0.03708021540850665, 0.03901323824363412, 0.04025995144608998]\n",
      "IAvg: 0.03685385252717474\n",
      "Std Dev: 0.0026696850033546857\n"
     ]
    }
   ],
   "source": [
    "I = []\n",
    "\n",
    "for mi, ti, r1i, r2i in zip(m, t, r1, r2):\n",
    "    tAvg = mean(ti)\n",
    "    n = mean([ abs(r-0) if r < 1000 else abs(100000-r) for r in r1i])\n",
    "    n1 = mean([ abs(ra-rb) for ra,rb in zip(r1i,r2i) ])\n",
    "    omegai = omega(n1, tAvg)\n",
    "    i = (2*mi*g*h - mi*r**2*omegai**2) / (omegai**2*(1+n/n1))\n",
    "    I.append(i)\n",
    "\n",
    "print('I:', I)\n",
    "IAvg = mean(I)\n",
    "print('IAvg:',IAvg)\n",
    "\n",
    "Istd = std(I)\n",
    "print('Std Dev:',Istd)"
   ]
  }
 ],
 "metadata": {
  "kernelspec": {
   "display_name": "Python 3",
   "language": "python",
   "name": "python3"
  },
  "language_info": {
   "codemirror_mode": {
    "name": "ipython",
    "version": 3
   },
   "file_extension": ".py",
   "mimetype": "text/x-python",
   "name": "python",
   "nbconvert_exporter": "python",
   "pygments_lexer": "ipython3",
   "version": "3.10.8 (tags/v3.10.8:aaaf517, Oct 11 2022, 16:50:30) [MSC v.1933 64 bit (AMD64)]"
  },
  "orig_nbformat": 4,
  "vscode": {
   "interpreter": {
    "hash": "369f2c481f4da34e4445cda3fffd2e751bd1c4d706f27375911949ba6bb62e1c"
   }
  }
 },
 "nbformat": 4,
 "nbformat_minor": 2
}
