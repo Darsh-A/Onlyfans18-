{
 "cells": [
  {
   "cell_type": "code",
   "execution_count": 51,
   "metadata": {},
   "outputs": [],
   "source": [
    "observed_times_ball_1 = [[0.75, 1.55, 2.43, 3.24, 3.97], [0.41, 1.12, 1.88, 2.63, 3.4]] # Time in seconds\n",
    "observed_times_ball_2 = [[2.13, 4.66, 7.15, 9.66, 12.18], [3.45, 6.1, 8.96, 11.94, 15.01]] # Time in seconds\n",
    "observed_diameters = [1.19, 0.62] # Diameter in centimeters\n",
    "observed_distance_between_markings = [7.5, 7.5, 7, 7] # Distance in centimeters\n",
    "observed_masses = [6.54, 1.055] # Mass in grams\n",
    "g = 9.81 # Acceleration due to gravity in m/s^2"
   ]
  },
  {
   "cell_type": "code",
   "execution_count": 52,
   "metadata": {},
   "outputs": [
    {
     "name": "stdout",
     "output_type": "stream",
     "text": [
      "[0.0966, 0.0278]\n",
      "N:  [5.921770067983116, 6.371091673538817]\n",
      "Mean eta:  6.146430870760966\n",
      "Standard deviation:  0.2246608027778505\n"
     ]
    }
   ],
   "source": [
    "from numpy import mean, std, pi\n",
    "\n",
    "observed_masses = [ m/1000 for m in observed_masses] # Convert to kilograms\n",
    "radii = [round(diameter/200, 5) for diameter in observed_diameters] # Convert to meters\n",
    "observed_distance_between_markings = [d/100 for d in observed_distance_between_markings] # Convert to meters\n",
    "times =[observed_times_ball_1, observed_times_ball_2]\n",
    "\n",
    "time_diffs = []\n",
    "for observation_set in times:\n",
    "    obs_set_diff = []\n",
    "    for observation in observation_set:\n",
    "        diff = [round(observation[i+1] - observation[i],2) for i in range(len(observation)-1)]\n",
    "        obs_set_diff.append(diff)\n",
    "    diff = [round(mean([obs_set_diff[0][i], obs_set_diff[1][i]]),2) for i in range(len(obs_set_diff[0]))]\n",
    "    time_diffs.append(diff)\n",
    "\n",
    "mean_velocities = []\n",
    "for l, times in zip(observed_distance_between_markings, time_diffs):\n",
    "    velocities = [l/t for t in times]\n",
    "    mean_velocities.append(round(mean(velocities),4))\n",
    "\n",
    "print(mean_velocities)\n",
    "\n",
    "N = []\n",
    "\n",
    "for m, v, r in zip(observed_masses, mean_velocities, radii):\n",
    "    n = (m*g)/(6*pi*r*v)\n",
    "    N.append(n)\n",
    "\n",
    "mean_eta = mean(N)\n",
    "standard_deviation = std(N)\n",
    "\n",
    "print(\"N: \", N)\n",
    "print(\"Mean eta: \", mean_eta)\n",
    "print(\"Standard deviation: \", standard_deviation)\n"
   ]
  }
 ],
 "metadata": {
  "kernelspec": {
   "display_name": "Python 3",
   "language": "python",
   "name": "python3"
  },
  "language_info": {
   "codemirror_mode": {
    "name": "ipython",
    "version": 3
   },
   "file_extension": ".py",
   "mimetype": "text/x-python",
   "name": "python",
   "nbconvert_exporter": "python",
   "pygments_lexer": "ipython3",
   "version": "3.10.8 (tags/v3.10.8:aaaf517, Oct 11 2022, 16:50:30) [MSC v.1933 64 bit (AMD64)]"
  },
  "orig_nbformat": 4,
  "vscode": {
   "interpreter": {
    "hash": "369f2c481f4da34e4445cda3fffd2e751bd1c4d706f27375911949ba6bb62e1c"
   }
  }
 },
 "nbformat": 4,
 "nbformat_minor": 2
}
